{
 "cells": [
  {
   "cell_type": "markdown",
   "metadata": {},
   "source": [
    "# Project task 05:  Clustering users based on their preferences"
   ]
  },
  {
   "cell_type": "code",
   "execution_count": 1,
   "metadata": {},
   "outputs": [],
   "source": [
    "import numpy as np\n",
    "import scipy.sparse as sp"
   ]
  },
  {
   "cell_type": "markdown",
   "metadata": {},
   "source": [
    "The goal of this task is to find groups of users with similar preferences using **Spectral clustering**. \n",
    "You are given a fragment of the Yelp social network, represented by an undirected weighted graph.\n",
    "Nodes in the graph represent users.\n",
    "If two users are connected by an edge of weight $w$, it means that they have both left positive reviews to the same $w$ restaurants.\n",
    "\n",
    "Additionally, you are given a matrix `F` that encodes user preferences to different categories of restaurants. If `F[i, c] = 1`, then user `i` likes restaurants in category `c`.\n",
    "\n",
    "You are allowed to use the imported functions (`eigsh`, `KMeans`, `normalize`)."
   ]
  },
  {
   "cell_type": "markdown",
   "metadata": {},
   "source": [
    "## Load the data\n",
    "\n",
    "* `N` = number of users (nodes in the graph)\n",
    "* `C` = number of categories\n",
    "* The graph is stored as a sparse adjacency matrix `A` (shape `[N, N]`).\n",
    "* User preferences are stored in a matrix `F` (shape `[N, C]`). They will only be used for the final part of the assignment (Part 3)\n",
    "* Name of each category is provided in the list `categories` (length `[C]`)."
   ]
  },
  {
   "cell_type": "code",
   "execution_count": 2,
   "metadata": {},
   "outputs": [],
   "source": [
    "A = sp.load_npz('A.npz')\n",
    "F = np.load('F.npy')\n",
    "categories = np.load('categories.npy').tolist()"
   ]
  },
  {
   "cell_type": "code",
   "execution_count": 3,
   "metadata": {},
   "outputs": [],
   "source": [
    "assert A.shape[0] == F.shape[0]\n",
    "assert F.shape[1] == len(categories)"
   ]
  },
  {
   "cell_type": "code",
   "execution_count": 153,
   "metadata": {
    "scrolled": true
   },
   "outputs": [
    {
     "data": {
      "text/plain": [
       "4359968.0"
      ]
     },
     "execution_count": 153,
     "metadata": {},
     "output_type": "execute_result"
    }
   ],
   "source": [
    "A.sum()"
   ]
  },
  {
   "cell_type": "code",
   "execution_count": 122,
   "metadata": {},
   "outputs": [
    {
     "data": {
      "text/plain": [
       "matrix([[2255.],\n",
       "        [3462.],\n",
       "        [1122.],\n",
       "        ...,\n",
       "        [1344.],\n",
       "        [ 528.],\n",
       "        [1368.]])"
      ]
     },
     "execution_count": 122,
     "metadata": {},
     "output_type": "execute_result"
    }
   ],
   "source": [
    "np.sum(A,axis = 1)"
   ]
  },
  {
   "cell_type": "code",
   "execution_count": 9,
   "metadata": {},
   "outputs": [
    {
     "data": {
      "text/plain": [
       "array([[0., 1., 1., ..., 0., 0., 0.],\n",
       "       [0., 1., 1., ..., 0., 1., 0.],\n",
       "       [0., 0., 0., ..., 0., 0., 0.],\n",
       "       ...,\n",
       "       [1., 0., 1., ..., 0., 0., 0.],\n",
       "       [1., 0., 0., ..., 1., 0., 0.],\n",
       "       [0., 1., 1., ..., 0., 0., 1.]])"
      ]
     },
     "execution_count": 9,
     "metadata": {},
     "output_type": "execute_result"
    }
   ],
   "source": [
    "F"
   ]
  },
  {
   "cell_type": "code",
   "execution_count": 10,
   "metadata": {},
   "outputs": [
    {
     "data": {
      "text/plain": [
       "['African',\n",
       " 'American (New)',\n",
       " 'American (Traditional)',\n",
       " 'Arcades',\n",
       " 'Arts & Crafts',\n",
       " 'Arts & Entertainment',\n",
       " 'Asian Fusion',\n",
       " 'Bagels',\n",
       " 'Bakeries',\n",
       " 'Barbeque',\n",
       " 'Beer',\n",
       " 'Beer Bar',\n",
       " 'Belgian',\n",
       " 'Bistros',\n",
       " 'Brasseries',\n",
       " 'Brazilian',\n",
       " 'Breakfast & Brunch',\n",
       " 'Breweries',\n",
       " 'British',\n",
       " 'Bubble Tea',\n",
       " 'Buffets',\n",
       " 'Burgers',\n",
       " 'Cafes',\n",
       " 'Cajun/Creole',\n",
       " 'Caribbean',\n",
       " 'Caterers',\n",
       " 'Chicken Shop',\n",
       " 'Chicken Wings',\n",
       " 'Chinese',\n",
       " 'Chocolatiers & Shops',\n",
       " 'Cocktail Bars',\n",
       " 'Coffee & Tea',\n",
       " 'Comfort Food',\n",
       " 'Creperies',\n",
       " 'Cuban',\n",
       " 'Dance Clubs',\n",
       " 'Delicatessen',\n",
       " 'Delis',\n",
       " 'Desserts',\n",
       " 'Dim Sum',\n",
       " 'Diners',\n",
       " 'Dive Bars',\n",
       " 'Do-It-Yourself Food',\n",
       " 'Ethiopian',\n",
       " 'Ethnic Food',\n",
       " 'Event Planning & Services',\n",
       " 'Falafel',\n",
       " 'Fast Food',\n",
       " 'Filipino',\n",
       " 'Fish & Chips',\n",
       " 'Food Court',\n",
       " 'Food Delivery Services',\n",
       " 'Food Stands',\n",
       " 'Food Trucks',\n",
       " 'French',\n",
       " 'Gastropubs',\n",
       " 'German',\n",
       " 'Gluten-Free',\n",
       " 'Greek',\n",
       " 'Grocery',\n",
       " 'Halal',\n",
       " 'Hawaiian',\n",
       " 'Health Markets',\n",
       " 'Himalayan/Nepalese',\n",
       " 'Hobby Shops',\n",
       " 'Hot Dogs',\n",
       " 'Hot Pot',\n",
       " 'Hotels',\n",
       " 'Hotels & Travel',\n",
       " 'Ice Cream & Frozen Yogurt',\n",
       " 'Imported Food',\n",
       " 'Indian',\n",
       " 'Internet Cafes',\n",
       " 'Irish',\n",
       " 'Italian',\n",
       " 'Japanese',\n",
       " 'Jazz & Blues',\n",
       " 'Juice Bars & Smoothies',\n",
       " 'Korean',\n",
       " 'Laotian',\n",
       " 'Latin American',\n",
       " 'Lebanese',\n",
       " 'Live/Raw Food',\n",
       " 'Local Flavor',\n",
       " 'Lounges',\n",
       " 'Malaysian',\n",
       " 'Mediterranean',\n",
       " 'Mexican',\n",
       " 'Middle Eastern',\n",
       " 'Modern European',\n",
       " 'Music Venues',\n",
       " 'Noodles',\n",
       " 'Organic Stores',\n",
       " 'Pakistani',\n",
       " 'Party & Event Planning',\n",
       " 'Persian/Iranian',\n",
       " 'Pizza',\n",
       " 'Poke',\n",
       " 'Polish',\n",
       " 'Portuguese',\n",
       " 'Poutineries',\n",
       " 'Pubs',\n",
       " 'Ramen',\n",
       " 'Salad',\n",
       " 'Sandwiches',\n",
       " 'Seafood',\n",
       " 'Shopping',\n",
       " 'Smokehouse',\n",
       " 'Soul Food',\n",
       " 'Soup',\n",
       " 'Southern',\n",
       " 'Spanish',\n",
       " 'Specialty Food',\n",
       " 'Sports Bars',\n",
       " 'Steakhouses',\n",
       " 'Street Vendors',\n",
       " 'Sushi Bars',\n",
       " 'Taiwanese',\n",
       " 'Tapas Bars',\n",
       " 'Tapas/Small Plates',\n",
       " 'Tea Rooms',\n",
       " 'Tex-Mex',\n",
       " 'Thai',\n",
       " 'Turkish',\n",
       " 'Udon',\n",
       " 'Vegan',\n",
       " 'Vegetarian',\n",
       " 'Venezuelan',\n",
       " 'Venues & Event Spaces',\n",
       " 'Vietnamese',\n",
       " 'Waffles',\n",
       " 'Wine & Spirits',\n",
       " 'Wine Bars']"
      ]
     },
     "execution_count": 10,
     "metadata": {},
     "output_type": "execute_result"
    }
   ],
   "source": [
    "categories"
   ]
  },
  {
   "cell_type": "markdown",
   "metadata": {},
   "source": [
    "# 1. Implementing spectral clustering\n",
    "## 1.1. Construct the graph Laplacian"
   ]
  },
  {
   "cell_type": "markdown",
   "metadata": {},
   "source": [
    "First, we need to construct the Laplacian for the given graph. \n",
    "\n",
    "Given the **adjacency matrix** $A \\in \\mathbb{R}^{N \\times N},$ we define the **degree matrix** $D \\in \\mathbb{R}^{N \\times N}$ of an undirected graph as\n",
    "$$D_{ij} =  \\begin{cases}\\sum_{k=1}^N A_{ik} & if \\;\\; i = j\\\\ 0 & if \\;\\; i \\ne j\\end{cases}$$\n",
    "\n",
    "If our goal is to minimize the **ratio cut**, we will need to use the **unnormalized Laplacian**, defined as\n",
    "$$L_{unnorm} = D - A.$$\n",
    "\n",
    "If our goal is to minimze the **normalized cut**, we will need to use the **normalized Laplacian** (a.k.a. symmetrized Laplacian), defined as\n",
    "$$L_{sym} = I - D^{-1/2}AD^{-1/2}$$"
   ]
  },
  {
   "cell_type": "code",
   "execution_count": 137,
   "metadata": {},
   "outputs": [],
   "source": [
    "def construct_laplacian(A, norm_laplacian):\n",
    "    \"\"\"Construct Laplacian of a graph.\n",
    "    \n",
    "    Parameters\n",
    "    ----------\n",
    "    A : scipy.sparse.csr_matrix, shape [N, N]\n",
    "        Adjacency matrix of the graph.\n",
    "    norm_laplacian : bool\n",
    "        Whether to construct the normalized graph Laplacian or not.\n",
    "        If True, construct the normalized (symmetrized) Laplacian, L = I - D^{-1/2} A D^{-1/2}.\n",
    "        If False, construct the unnormalized Laplacian, L = D - A.\n",
    "        \n",
    "    Returns\n",
    "    -------\n",
    "    L : scipy.sparse.csr_matrix, shape [N, N]\n",
    "        Laplacian of the graph.\n",
    "        \n",
    "    \"\"\"\n",
    "    ### YOUR CODE HERE ###\n",
    "    from scipy.sparse import csgraph\n",
    "    N = A.shape[0]\n",
    "    D = np.zeros((N,N))\n",
    "#     I = np.ones((N,N))\n",
    "    \n",
    "    row,col =np.diag_indices_from(D)\n",
    "    D[row,col] = np.array(np.sum(A,axis = 1)).ravel()\n",
    "#     print(D)\n",
    "    L = D - A\n",
    "#     print(L)\n",
    "#     print(D[row,col].shape)\n",
    "#     print(np.array(np.sum(A,axis = 1)).ravel().shape)\n",
    "\n",
    "    if(norm_laplacian):\n",
    "        D[row,col]=np.power(D[row,col],-1/2)\n",
    "#         print(D)\n",
    "        L = (D.dot(L)).dot(D)\n",
    "#         L2 = I - np.dot(np.dot(D,A),D)\n",
    "#         print(L==L2)\n",
    "\n",
    "#         print(csgraph.laplacian(L, normed=True))\n",
    "\n",
    "    return L"
   ]
  },
  {
   "cell_type": "code",
   "execution_count": 138,
   "metadata": {
    "scrolled": true
   },
   "outputs": [
    {
     "data": {
      "text/plain": [
       "matrix([[ 1.00000000e+00, -3.57901233e-04, -6.28680947e-04, ...,\n",
       "          0.00000000e+00,  0.00000000e+00,  0.00000000e+00],\n",
       "        [-3.57901233e-04,  1.00000000e+00,  0.00000000e+00, ...,\n",
       "          0.00000000e+00, -1.47927699e-03,  0.00000000e+00],\n",
       "        [-6.28680947e-04,  0.00000000e+00,  1.00000000e+00, ...,\n",
       "          0.00000000e+00,  0.00000000e+00,  0.00000000e+00],\n",
       "        ...,\n",
       "        [ 0.00000000e+00,  0.00000000e+00,  0.00000000e+00, ...,\n",
       "          1.00000000e+00, -1.18708934e-03, -1.47498401e-03],\n",
       "        [ 0.00000000e+00, -1.47927699e-03,  0.00000000e+00, ...,\n",
       "         -1.18708934e-03,  1.00000000e+00,  0.00000000e+00],\n",
       "        [ 0.00000000e+00,  0.00000000e+00,  0.00000000e+00, ...,\n",
       "         -1.47498401e-03,  0.00000000e+00,  1.00000000e+00]])"
      ]
     },
     "execution_count": 138,
     "metadata": {},
     "output_type": "execute_result"
    }
   ],
   "source": [
    "construct_laplacian(A,True)"
   ]
  },
  {
   "cell_type": "markdown",
   "metadata": {},
   "source": [
    "## 1.2. Spectral embedding"
   ]
  },
  {
   "cell_type": "markdown",
   "metadata": {},
   "source": [
    "Now, we have to compute the spectral embedding for the given graph.\n",
    "\n",
    "In order to partition the graph into $k$ clusters, such that the desired cut (ratio or normalized) is minimized, we need to consider the $k$ eigenvectors corresponding to the $k$ smallest eigenvalues of the graph Laplacian.\n",
    "\n",
    "Since the Laplacian matrix is sparse and symmetric, we can use the function `eigsh` from the `scipy.sparse.linalg` package in order to find eigendecomposition of $L$ (`eig` - eigendecomposition, `s` - sparse, `h`- Hermitian).\n",
    "The function `eigsh` directly allows you to find the smallest / largest eigenvalues by specifying the `k` and `which` parameters. \n",
    "\n",
    "Keep in mind that the Laplacian matrix is always positive semi-definite when picking the appropriate value for the `which` parameter."
   ]
  },
  {
   "cell_type": "code",
   "execution_count": 5,
   "metadata": {},
   "outputs": [],
   "source": [
    "from scipy.sparse.linalg import eigsh"
   ]
  },
  {
   "cell_type": "code",
   "execution_count": 169,
   "metadata": {},
   "outputs": [],
   "source": [
    "def spectral_embedding(A, num_clusters, norm_laplacian):\n",
    "    \"\"\"Compute spectral embedding of nodes in the given graph.\n",
    "    \n",
    "    Parameters\n",
    "    ----------\n",
    "    A : scipy.sparse.csr_matrix, shape [N, N]\n",
    "        Adjacency matrix of the graph.\n",
    "    num_clusters : int\n",
    "        Number of clusters to detect in the data.\n",
    "    norm_laplacian : bool, default False\n",
    "        Whether to use the normalized graph Laplacian or not.\n",
    "        \n",
    "    Returns\n",
    "    -------\n",
    "    embedding : np.array, shape [N, num_clusters]\n",
    "        Spectral embedding for the given graph.\n",
    "        Each row represents the spectral embedding of a given node.\n",
    "    \n",
    "    \"\"\"\n",
    "    if (A != A.T).sum() != 0:\n",
    "        raise ValueError(\"Spectral embedding doesn't work if the adjacency matrix is not symmetric.\")\n",
    "    ### YOUR CODE HERE ###\n",
    "    L = construct_laplacian(A,norm_laplacian)\n",
    "    eigenvalues, eigvecs = eigsh(L, k=num_clusters, which='SA')\n",
    "#     print(eigenvalues)\n",
    "    \n",
    "    return eigvecs"
   ]
  },
  {
   "cell_type": "code",
   "execution_count": 149,
   "metadata": {},
   "outputs": [
    {
     "name": "stdout",
     "output_type": "stream",
     "text": [
      "[-2.19710608e-12  6.79046066e+01  6.85357173e+01  7.22045628e+01\n",
      "  7.79112271e+01  8.17477831e+01]\n"
     ]
    },
    {
     "data": {
      "text/plain": [
       "array([[-0.01719035,  0.00027954,  0.00039815,  0.00020549,  0.00029841,\n",
       "        -0.00033078],\n",
       "       [-0.01719035,  0.00027944,  0.00039683,  0.00018978,  0.00028385,\n",
       "        -0.00032446],\n",
       "       [-0.01719035,  0.00026292,  0.00043   ,  0.00020734,  0.00031677,\n",
       "        -0.00034699],\n",
       "       ...,\n",
       "       [-0.01719035,  0.00027733,  0.00042267,  0.00020251,  0.00030726,\n",
       "        -0.00033546],\n",
       "       [-0.01719035,  0.0002976 ,  0.00044688,  0.000234  ,  0.00034747,\n",
       "        -0.0003704 ],\n",
       "       [-0.01719035,  0.00028916,  0.00039692,  0.0001946 ,  0.00029752,\n",
       "        -0.00034005]])"
      ]
     },
     "execution_count": 149,
     "metadata": {},
     "output_type": "execute_result"
    }
   ],
   "source": [
    "spectral_embedding(A,6,False)"
   ]
  },
  {
   "cell_type": "markdown",
   "metadata": {},
   "source": [
    "## 1.3. Determine the clusters based on the spectral embedding"
   ]
  },
  {
   "cell_type": "markdown",
   "metadata": {},
   "source": [
    "You should use the K-means algorithm for assigning nodes to clusters, once the spectral embedding is computed.\n",
    "\n",
    "One thing you should keep in mind, is that when using the **normalized Laplacian**, the rows of the embedding matrix **have to** be normalized to have unit $L_2$ norm."
   ]
  },
  {
   "cell_type": "code",
   "execution_count": 7,
   "metadata": {},
   "outputs": [],
   "source": [
    "from sklearn.cluster import KMeans\n",
    "from sklearn.preprocessing import normalize"
   ]
  },
  {
   "cell_type": "code",
   "execution_count": 140,
   "metadata": {},
   "outputs": [],
   "source": [
    "def spectral_clustering(A, num_clusters, norm_laplacian):\n",
    "    \"\"\"Perform spectral clustering on the given graph.\n",
    "    \n",
    "    Parameters\n",
    "    ----------\n",
    "    A : scipy.sparse.csr_matrix, shape [N, N]\n",
    "        Adjacency matrix of the graph.\n",
    "    num_clusters : int\n",
    "        Number of clusters to detect in the data.\n",
    "    norm_laplacian : bool, default False\n",
    "        Whether to use the normalized graph Laplacian or not.\n",
    "        \n",
    "    Returns\n",
    "    -------\n",
    "    z_pred : np.array, shape [N]\n",
    "        Predicted cluster indicators for each node.\n",
    "        \n",
    "    \"\"\"\n",
    "    ### YOUR CODE HERE ###\n",
    "    eigvecs = spectral_embedding(A, num_clusters, norm_laplacian)\n",
    "    if(norm_laplacian):\n",
    "        eigvecs = normalize(eigvecs, norm='l2')\n",
    "    kmeans = KMeans(n_clusters=num_clusters, random_state=0).fit(eigvecs)\n",
    "    z_pred = kmeans.labels_\n",
    "        \n",
    "    \n",
    "    return z_pred"
   ]
  },
  {
   "cell_type": "code",
   "execution_count": 145,
   "metadata": {},
   "outputs": [
    {
     "data": {
      "text/plain": [
       "array([0, 0, 0, ..., 0, 0, 0])"
      ]
     },
     "execution_count": 145,
     "metadata": {},
     "output_type": "execute_result"
    }
   ],
   "source": [
    "spectral_clustering(A,6,False)"
   ]
  },
  {
   "cell_type": "markdown",
   "metadata": {},
   "source": [
    "# 2. Quantitatively evaluate the results"
   ]
  },
  {
   "cell_type": "code",
   "execution_count": 62,
   "metadata": {},
   "outputs": [],
   "source": [
    "def labels_to_list_of_clusters(z):\n",
    "    \"\"\"Convert predicted label vector to a list of clusters in the graph.\n",
    "    This function is already implemented, nothing to do here.\n",
    "    \n",
    "    Parameters\n",
    "    ----------\n",
    "    z : np.array, shape [N]\n",
    "        Predicted labels.\n",
    "        \n",
    "    Returns\n",
    "    -------\n",
    "    list_of_clusters : list of lists\n",
    "        Each list contains ids of nodes that belong to the same cluster.\n",
    "        Each node may appear in one and only one partition.\n",
    "    \n",
    "    Examples\n",
    "    --------\n",
    "    >>> z = np.array([0, 0, 1, 1, 0])\n",
    "    >>> labels_to_list_of_clusters(z)\n",
    "    [[0, 1, 4], [2, 3]]\n",
    "    \n",
    "    \"\"\"\n",
    "    return [np.where(z == c)[0] for c in np.unique(z)]"
   ]
  },
  {
   "cell_type": "code",
   "execution_count": 158,
   "metadata": {},
   "outputs": [
    {
     "name": "stdout",
     "output_type": "stream",
     "text": [
      "[-3.64684441e-13  6.79046066e+01  6.85357173e+01  7.22045628e+01\n",
      "  7.79112271e+01  8.17477831e+01]\n"
     ]
    },
    {
     "data": {
      "text/plain": [
       "3379"
      ]
     },
     "execution_count": 158,
     "metadata": {},
     "output_type": "execute_result"
    }
   ],
   "source": [
    "len(labels_to_list_of_clusters(spectral_clustering(A,6,False))[0])"
   ]
  },
  {
   "cell_type": "markdown",
   "metadata": {},
   "source": [
    "## 2.1. Compute ratio cut"
   ]
  },
  {
   "cell_type": "markdown",
   "metadata": {},
   "source": [
    "Your task is to implement functions for computing the **ratio cut** and **normalized cut** for a given partition.\n",
    "\n",
    "Ratio cut and normalized cut are defined on the slide 14 of the lecture slides.\n",
    "\n",
    "\n",
    "The function `labels_to_list_of_clusters` can be helpful here."
   ]
  },
  {
   "cell_type": "code",
   "execution_count": 171,
   "metadata": {},
   "outputs": [],
   "source": [
    "def compute_ratio_cut(A, z):\n",
    "    \n",
    "    \"\"\"Compute the ratio cut for the given partition of the graph.\n",
    "    \n",
    "    Parameters\n",
    "    ----------\n",
    "    A : scipy.sparse.csr_matrix, shape [N, N]\n",
    "        Adjacency matrix of the graph.\n",
    "    z : np.array, shape [N]\n",
    "        Cluster indicators for each node.\n",
    "    \n",
    "    Returns\n",
    "    -------\n",
    "    ratio_cut : float\n",
    "        Value of the cut for the given partition of the graph.\n",
    "        \n",
    "    \"\"\"\n",
    "    \n",
    "    ### YOUR CODE HERE ###\n",
    "    from itertools import combinations\n",
    "    \n",
    "    clusters = labels_to_list_of_clusters(z)\n",
    "#     print('clusters',clusters)\n",
    "\n",
    "    numSet = set(range(A.shape[0]))\n",
    "    result=[]\n",
    "    \n",
    "    for i in range(len(clusters)):\n",
    "\n",
    "        s = list(clusters[i])\n",
    "        length = len(s)\n",
    "        \n",
    "        column = list(numSet - set(s))\n",
    "        \n",
    "        A2 = A[s]\n",
    "        A2 = A2[:,column]\n",
    "        cut2 = A2.sum()\n",
    "        \n",
    "        result.append(cut2/length)\n",
    "\n",
    "    ratio_cut = sum(result)\n",
    "\n",
    "\n",
    "    return ratio_cut"
   ]
  },
  {
   "cell_type": "markdown",
   "metadata": {},
   "source": [
    "## 2.2. Compute normalized cut"
   ]
  },
  {
   "cell_type": "markdown",
   "metadata": {},
   "source": [
    "**Important**: if a cluster only contains a single node, define its volume to be 1 to avoid division by zero errors."
   ]
  },
  {
   "cell_type": "code",
   "execution_count": 174,
   "metadata": {},
   "outputs": [],
   "source": [
    "def compute_normalized_cut(A, z):\n",
    "    \"\"\"Compute the normalized cut for the given partition of the graph.\n",
    "    \n",
    "    Parameters\n",
    "    ----------\n",
    "    A : scipy.sparse.csr_matrix, shape [N, N]\n",
    "        Adjacency matrix of the graph.\n",
    "    z : np.array, shape [N]\n",
    "        Cluster indicators for each node.\n",
    "    \n",
    "    Returns\n",
    "    -------\n",
    "    norm_cut : float\n",
    "        Value of the normalized cut for the given partition of the graph.\n",
    "        \n",
    "    \"\"\"\n",
    "    \n",
    "    ### YOUR CODE HERE ###\n",
    "    \n",
    "    from itertools import combinations\n",
    "    \n",
    "    clusters = labels_to_list_of_clusters(z)\n",
    "    numSet = set(range(A.shape[0]))\n",
    "    result=[]\n",
    "\n",
    "    for i in range(len(clusters)):\n",
    "        #print(i)\n",
    "        s = list(clusters[i])\n",
    "        vol = A[s,:].sum()\n",
    "        \n",
    "        column = list(numSet - set(s))\n",
    "        \n",
    "        A2 = A[s]\n",
    "        A2 = A2[:,column]\n",
    "        cut2 = A2.sum()\n",
    "        \n",
    "        result.append(cut2/vol)\n",
    "        \n",
    "        \n",
    "    norm_cut = sum(result)\n",
    "    \n",
    "    return norm_cut"
   ]
  },
  {
   "cell_type": "markdown",
   "metadata": {},
   "source": [
    "Notice, how using the unnormalized Laplacian leads to a much better ratio cut, while the normalized Laplacian leads to better normalized cut."
   ]
  },
  {
   "cell_type": "code",
   "execution_count": 65,
   "metadata": {},
   "outputs": [],
   "source": [
    "num_clusters = 6"
   ]
  },
  {
   "cell_type": "code",
   "execution_count": 176,
   "metadata": {
    "scrolled": true
   },
   "outputs": [
    {
     "name": "stdout",
     "output_type": "stream",
     "text": [
      "[0 0 0 ... 0 0 0]\n",
      "When using L_unnorm:\n",
      " ratio cut = 369.109\n",
      " normalized cut = 5.000\n",
      " sizes of partitions are: [3379, 1, 1, 1, 1, 1]\n"
     ]
    }
   ],
   "source": [
    "norm_laplacian = False\n",
    "z_unnorm = spectral_clustering(A, num_clusters, norm_laplacian)\n",
    "print(z_unnorm)\n",
    "print('When using L_unnorm:')\n",
    "print(' ratio cut = {:.3f}'.format(compute_ratio_cut(A, z_unnorm)))\n",
    "print(' normalized cut = {:.3f}'.format(compute_normalized_cut(A, z_unnorm)))\n",
    "print(' sizes of partitions are: {}'.format([len(clust) for clust in labels_to_list_of_clusters(z_unnorm)]))"
   ]
  },
  {
   "cell_type": "code",
   "execution_count": 175,
   "metadata": {},
   "outputs": [
    {
     "name": "stdout",
     "output_type": "stream",
     "text": [
      "When using L_norm:\n",
      " ratio cut = 5942.851\n",
      " normalized cut = 4.343\n",
      " sizes of partitions are: [742, 754, 350, 389, 577, 572]\n"
     ]
    }
   ],
   "source": [
    "norm_laplacian = True\n",
    "z_norm = spectral_clustering(A, num_clusters, norm_laplacian)\n",
    "print('When using L_norm:')\n",
    "print(' ratio cut = {:.3f}'.format(compute_ratio_cut(A, z_norm)))\n",
    "print(' normalized cut = {:.3f}'.format(compute_normalized_cut(A, z_norm)))\n",
    "print(' sizes of partitions are: {}'.format([len(clust) for clust in labels_to_list_of_clusters(z_norm)]))"
   ]
  },
  {
   "cell_type": "markdown",
   "metadata": {},
   "source": [
    "# 3. Visualize the results"
   ]
  },
  {
   "cell_type": "markdown",
   "metadata": {},
   "source": [
    "In the final part of the assignment, your task is to print out the 5 most popular types of restaurants visited by the users in each cluster."
   ]
  },
  {
   "cell_type": "code",
   "execution_count": 179,
   "metadata": {},
   "outputs": [],
   "source": [
    "def print_top_categories_for_each_cluster(top_k, z, F, categories):\n",
    "    \"\"\"Print the top-K categories among users in each cluster.\n",
    "    For each cluster, the function prints names of the top-K categories,\n",
    "    and number of users that like the respective category (separated by a comma).\n",
    "    The function doesn't return anything, just prints the output.\n",
    "    \n",
    "    Parameters\n",
    "    ----------\n",
    "    top_k : int\n",
    "        Number of most popular categories to print for each cluster.\n",
    "    z : np.array, shape [N]\n",
    "        Cluster labels.\n",
    "    F : sp.csr_matrix, shape [N, C]\n",
    "        Matrix that tells preferences of each user to each category.\n",
    "        F[i, c] = 1 if user i gave at least one positive review to at least one restaurant in category c.\n",
    "    categories : list, shape [C]\n",
    "        Names of the categories.\n",
    "        \n",
    "    \"\"\"\n",
    "    ### YOUR CODE HERE ###\n",
    "    clusters = labels_to_list_of_clusters(z)\n",
    "    for i in range(len(clusters)):\n",
    "        s = list(clusters[i])\n",
    "        F2 = F[s]\n",
    "        sumLike = np.sum(F2,axis = 0)\n",
    "        rank = sumLike.argsort()[-top_k:][::-1]\n",
    "        \n",
    "        print('Most popular categories in cluster', i)\n",
    "        for i in range(top_k):\n",
    "            print(categories[rank[i]],sumLike[rank[i]])\n",
    "        \n",
    "        print()\n",
    "        \n",
    "        \n",
    "        "
   ]
  },
  {
   "cell_type": "code",
   "execution_count": 181,
   "metadata": {
    "scrolled": false
   },
   "outputs": [
    {
     "name": "stdout",
     "output_type": "stream",
     "text": [
      "Most popular categories in cluster 0\n",
      "Breakfast & Brunch 636.0\n",
      "Sandwiches 528.0\n",
      "Italian 514.0\n",
      "Pizza 482.0\n",
      "Coffee & Tea 473.0\n",
      "\n",
      "Most popular categories in cluster 1\n",
      "Breakfast & Brunch 664.0\n",
      "Italian 626.0\n",
      "American (Traditional) 518.0\n",
      "Sandwiches 518.0\n",
      "Pizza 485.0\n",
      "\n",
      "Most popular categories in cluster 2\n",
      "Seafood 315.0\n",
      "Mexican 314.0\n",
      "Sandwiches 294.0\n",
      "Japanese 291.0\n",
      "Breakfast & Brunch 286.0\n",
      "\n",
      "Most popular categories in cluster 3\n",
      "Specialty Food 356.0\n",
      "Thai 355.0\n",
      "Breakfast & Brunch 348.0\n",
      "Japanese 333.0\n",
      "Ethnic Food 330.0\n",
      "\n",
      "Most popular categories in cluster 4\n",
      "Japanese 529.0\n",
      "Chinese 441.0\n",
      "Asian Fusion 414.0\n",
      "Sushi Bars 408.0\n",
      "Desserts 406.0\n",
      "\n",
      "Most popular categories in cluster 5\n",
      "Japanese 507.0\n",
      "Breakfast & Brunch 462.0\n",
      "Sandwiches 435.0\n",
      "Italian 417.0\n",
      "Asian Fusion 414.0\n",
      "\n"
     ]
    }
   ],
   "source": [
    "np.random.seed(2)\n",
    "z_norm = spectral_clustering(A, num_clusters, True)\n",
    "r = print_top_categories_for_each_cluster(5, z_norm, F, categories)"
   ]
  }
 ],
 "metadata": {
  "kernelspec": {
   "display_name": "Python 3",
   "language": "python",
   "name": "python3"
  },
  "language_info": {
   "codemirror_mode": {
    "name": "ipython",
    "version": 3
   },
   "file_extension": ".py",
   "mimetype": "text/x-python",
   "name": "python",
   "nbconvert_exporter": "python",
   "pygments_lexer": "ipython3",
   "version": "3.6.8"
  },
  "toc": {
   "base_numbering": 1,
   "nav_menu": {},
   "number_sections": true,
   "sideBar": true,
   "skip_h1_title": false,
   "title_cell": "Table of Contents",
   "title_sidebar": "Contents",
   "toc_cell": false,
   "toc_position": {},
   "toc_section_display": true,
   "toc_window_display": false
  }
 },
 "nbformat": 4,
 "nbformat_minor": 2
}
